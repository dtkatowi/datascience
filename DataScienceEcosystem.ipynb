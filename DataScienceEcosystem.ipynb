{
 "cells": [
  {
   "cell_type": "markdown",
   "id": "d95ebfb0-3f00-4ddd-acfa-b124f4271da3",
   "metadata": {},
   "source": [
    "# Data Science Tools and Ecosystem"
   ]
  },
  {
   "cell_type": "markdown",
   "id": "d7d650bb-1850-4e39-9a6c-0ecfda036fc1",
   "metadata": {},
   "source": [
    "In this notebook, Data Science Tools and Ecosystem are summarized."
   ]
  },
  {
   "cell_type": "markdown",
   "id": "431ee0cd-bff3-4c82-822d-bd54e6ccf9af",
   "metadata": {},
   "source": [
    "**Objectives:**\n",
    "* List popular languages for Data Science\n",
    "* List some commonly used libraries used by Data Scientists\n",
    "* List some common open source development environments\n",
    "* Run a few basic examples of arithmetic expressions (using Python)"
   ]
  },
  {
   "cell_type": "markdown",
   "id": "b691a49b-0394-426f-9f52-3b19226bc729",
   "metadata": {},
   "source": [
    "Some of the popular languages that Data Scientists use are:\n",
    "1. R\n",
    "2. Python\n",
    "3. Julia\n",
    "   "
   ]
  },
  {
   "cell_type": "markdown",
   "id": "260394f7-9dbf-4245-aa33-e85d9324257d",
   "metadata": {},
   "source": [
    "Some of the commonly used libraries used by Data Scientists include:\n",
    "1. ggplot\n",
    "2. scikit learn\n",
    "3. dplyr"
   ]
  },
  {
   "cell_type": "markdown",
   "id": "988e2f0f-3590-4606-8eaf-51a544a34b9c",
   "metadata": {},
   "source": [
    "| Data Science Tools |\n",
    "|--------------------|\n",
    "| Google Colab       |\n",
    "| JupyterLab         |\n",
    "| VS Code            |"
   ]
  },
  {
   "cell_type": "markdown",
   "id": "5ef83587-aa8c-449c-a009-8972c2c6a1bd",
   "metadata": {},
   "source": [
    "### Below are a few examples of evaluating arithmetic expressions in Python"
   ]
  },
  {
   "cell_type": "code",
   "execution_count": 5,
   "id": "2edbdf5e-0583-44af-80c9-541b00fcf714",
   "metadata": {},
   "outputs": [
    {
     "data": {
      "text/plain": [
       "17"
      ]
     },
     "execution_count": 5,
     "metadata": {},
     "output_type": "execute_result"
    }
   ],
   "source": [
    "# This is a simple arithmetic expression to mutiply then add integers\n",
    "(3*4)+5"
   ]
  },
  {
   "cell_type": "code",
   "execution_count": 7,
   "id": "d4d87e11-c794-4e7a-af33-d0a865bc480a",
   "metadata": {},
   "outputs": [
    {
     "data": {
      "text/plain": [
       "3.3333333333333335"
      ]
     },
     "execution_count": 7,
     "metadata": {},
     "output_type": "execute_result"
    }
   ],
   "source": [
    "# This will convert 200 minutes to hours by diving by 60\n",
    "200 / 60"
   ]
  },
  {
   "cell_type": "markdown",
   "id": "4c804937-67e0-4c2f-b082-897eefefc97d",
   "metadata": {},
   "source": [
    "## Author\n",
    "Daniel Katowitz"
   ]
  }
 ],
 "metadata": {
  "kernelspec": {
   "display_name": "Python 3 (ipykernel)",
   "language": "python",
   "name": "python3"
  },
  "language_info": {
   "codemirror_mode": {
    "name": "ipython",
    "version": 3
   },
   "file_extension": ".py",
   "mimetype": "text/x-python",
   "name": "python",
   "nbconvert_exporter": "python",
   "pygments_lexer": "ipython3",
   "version": "3.12.0"
  }
 },
 "nbformat": 4,
 "nbformat_minor": 5
}
